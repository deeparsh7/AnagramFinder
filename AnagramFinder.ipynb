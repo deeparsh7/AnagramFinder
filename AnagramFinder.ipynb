{
  "nbformat": 4,
  "nbformat_minor": 0,
  "metadata": {
    "colab": {
      "provenance": [],
      "authorship_tag": "ABX9TyPr6IZ3SwUYGOe+x9mtm9vl",
      "include_colab_link": true
    },
    "kernelspec": {
      "name": "python3",
      "display_name": "Python 3"
    },
    "language_info": {
      "name": "python"
    }
  },
  "cells": [
    {
      "cell_type": "markdown",
      "metadata": {
        "id": "view-in-github",
        "colab_type": "text"
      },
      "source": [
        "<a href=\"https://colab.research.google.com/github/deeparsh7/AnagramFinder/blob/main/AnagramFinder.ipynb\" target=\"_parent\"><img src=\"https://colab.research.google.com/assets/colab-badge.svg\" alt=\"Open In Colab\"/></a>"
      ]
    },
    {
      "cell_type": "code",
      "execution_count": 5,
      "metadata": {
        "colab": {
          "base_uri": "https://localhost:8080/"
        },
        "id": "ehy1TcFWmrzD",
        "outputId": "0622a404-38a4-4a5b-f966-0766b3e12dce"
      },
      "outputs": [
        {
          "output_type": "stream",
          "name": "stdout",
          "text": [
            "Please enter the words separated by spaces or commas: arcade debit bidet dormitory computer astronomer moonstarer earth heart dirtyroom mountain nutrition\n",
            "Anagram Pairs:\n",
            "'debit' and 'bidet' are anagrams! 😃\n",
            "'dormitory' and 'dirtyroom' are anagrams! 😃\n",
            "'astronomer' and 'moonstarer' are anagrams! 😃\n",
            "'earth' and 'heart' are anagrams! 😃\n",
            "Non-Anagrams:\n",
            "'nutrition' is not an anagram. 😔\n",
            "'arcade' is not an anagram. 😔\n",
            "'mountain' is not an anagram. 😔\n",
            "'computer' is not an anagram. 😔\n"
          ]
        }
      ],
      "source": [
        "# Function to determine if two words are anagrams\n",
        "def are_anagrams(text1, text2):\n",
        "    # Convert words to lowercase, remove leading and trailing spaces, sort the characters\n",
        "    sorted_text1 = ''.join(sorted(text1.lower().strip()))\n",
        "    sorted_text2 = ''.join(sorted(text2.lower().strip()))\n",
        "\n",
        "    # Return True if the sorted versions of the words are equal (anagrams), else False\n",
        "    return sorted_text1 == sorted_text2\n",
        "\n",
        "# Initialize a list to store words\n",
        "words = []\n",
        "\n",
        "# Take input from the user\n",
        "user_string = input(\"Please enter the words separated by spaces or commas: \")\n",
        "words = user_string.replace(',', ' ').split()\n",
        "\n",
        "# Initialize a set to store visited words\n",
        "visited = set()\n",
        "\n",
        "# Initialize a list to store pairs of anagram words\n",
        "anagram_pairs = []\n",
        "\n",
        "# Check for anagrams in the list of words\n",
        "# Loop through the indices of the 'words' list\n",
        "for i in range(len(words)):\n",
        "    # Check if the word has been visited before\n",
        "    if words[i] not in visited:\n",
        "        # Loop through indices greater than 'i' to avoid duplicate comparisons\n",
        "        for j in range(i + 1, len(words)):\n",
        "            # Check if words at indices 'i' and 'j' are anagrams using the 'are_anagrams' function\n",
        "            if are_anagrams(words[i], words[j]):\n",
        "                # If they are anagrams, add both words to the 'visited' set\n",
        "                visited.add(words[i])\n",
        "                visited.add(words[j])\n",
        "                # Also, add a tuple of the anagram words to the 'anagram_pairs' list\n",
        "                anagram_pairs.append((words[i], words[j]))\n",
        "\n",
        "# Initialize a set for storing non-anagram words\n",
        "non_anagram_set = set(words) - visited\n",
        "\n",
        "# Print anagram pairs\n",
        "if anagram_pairs:\n",
        "    print(\"Anagram Pairs:\")\n",
        "    for pair in anagram_pairs:\n",
        "        print(f\"'{pair[0]}' and '{pair[1]}' are anagrams! 😃\")\n",
        "\n",
        "# Print non-anagrams\n",
        "if non_anagram_set:\n",
        "    print(\"Non-Anagrams:\")\n",
        "    for word in non_anagram_set:\n",
        "        print(f\"'{word}' is not an anagram. 😔\")\n",
        "\n",
        "if not anagram_pairs and not non_anagram_set:\n",
        "    print(\"No anagram pairs or non-anagrams found. 😔\")\n"
      ]
    }
  ]
}